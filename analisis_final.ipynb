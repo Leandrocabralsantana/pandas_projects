{
 "cells": [
  {
   "attachments": {},
   "cell_type": "markdown",
   "id": "6d255b16",
   "metadata": {},
   "source": [
    "## Análisis de ventas"
   ]
  },
  {
   "attachments": {},
   "cell_type": "markdown",
   "id": "b83a8272",
   "metadata": {},
   "source": [
    "#### Importar librerías necesarias para empezar"
   ]
  },
  {
   "cell_type": "code",
   "execution_count": null,
   "id": "78854ae7",
   "metadata": {},
   "outputs": [],
   "source": [
    "import pandas as pd\n",
    "import os"
   ]
  },
  {
   "attachments": {},
   "cell_type": "markdown",
   "id": "1bf50835",
   "metadata": {},
   "source": [
    "### Objetivo 1: Poner los 12 csv en un mismo df"
   ]
  },
  {
   "cell_type": "code",
   "execution_count": null,
   "id": "eeaedcf4",
   "metadata": {},
   "outputs": [],
   "source": [
    "df = pd.read_csv('./pandas_projects/SalesAnalysis/Sales_Data/Sales_April_2019.csv')\n",
    "files = [file for file in os.listdir('./pandas_projects/SalesAnalysis/Sales_Data')]\n",
    "all_months_data = pd.DataFrame()\n",
    "\n",
    "for file in files:\n",
    "    df = pd.read_csv('./pandas_projects/SalesAnalysis/Sales_Data/'+file)\n",
    "    all_months_data = pd.concat([all_months_data, df])\n",
    "\n",
    "all_months_data.to_csv('all_data.csv', index=False)"
   ]
  },
  {
   "attachments": {},
   "cell_type": "markdown",
   "id": "48f09ee4",
   "metadata": {},
   "source": [
    "Leer el 'all_data' nuevo completo"
   ]
  },
  {
   "cell_type": "code",
   "execution_count": null,
   "id": "09fb01cd",
   "metadata": {},
   "outputs": [],
   "source": [
    "all_data = pd.read_csv('all_data.csv')\n",
    "all_data.head()"
   ]
  },
  {
   "attachments": {},
   "cell_type": "markdown",
   "id": "b32c32bc",
   "metadata": {},
   "source": [
    "Borrar filas y columnas que tengan NaN"
   ]
  },
  {
   "cell_type": "code",
   "execution_count": null,
   "id": "356a4977",
   "metadata": {},
   "outputs": [],
   "source": [
    "nan_df = all_data[all_data.isna().any(axis=1)]\n",
    "nan_df.head()\n",
    "all_data =all_data.dropna(how='all')\n",
    "all_data.head()"
   ]
  },
  {
   "cell_type": "code",
   "execution_count": null,
   "id": "015dd65d",
   "metadata": {},
   "outputs": [],
   "source": [
    "all_data.head"
   ]
  },
  {
   "attachments": {},
   "cell_type": "markdown",
   "id": "f6cfc9b9",
   "metadata": {},
   "source": [
    "Encontrar los \"Or\" y borrarlos"
   ]
  },
  {
   "cell_type": "code",
   "execution_count": null,
   "id": "9df2787b",
   "metadata": {},
   "outputs": [],
   "source": [
    "all_data = all_data[all_data['Order Date'].str[0:2] !='Or']\n",
    "all_data.head()"
   ]
  },
  {
   "attachments": {},
   "cell_type": "markdown",
   "id": "2880ed88",
   "metadata": {},
   "source": [
    "Convertir columnas a su formato correcto usando la funcion pd.to_formatoquequieras"
   ]
  },
  {
   "cell_type": "code",
   "execution_count": null,
   "id": "4be8ce87",
   "metadata": {},
   "outputs": [],
   "source": [
    "all_data['Quantity Ordered'] = pd.to_numeric(all_data['Quantity Ordered'])\n",
    "all_data['Price Each'] = pd.to_numeric(all_data['Price Each'])\n",
    "all_data.head()"
   ]
  },
  {
   "cell_type": "markdown",
   "id": "45f5fb22",
   "metadata": {},
   "source": [
    "Augment data with aditional columns"
   ]
  },
  {
   "attachments": {},
   "cell_type": "markdown",
   "id": "f4df6b7c",
   "metadata": {},
   "source": [
    "### Objetivo 2: Crear columna de mes"
   ]
  },
  {
   "cell_type": "code",
   "execution_count": null,
   "metadata": {},
   "outputs": [],
   "source": [
    "all_data['Month'] = all_data['Order Date'].str[0:2]\n",
    "all_data['Month'] = all_data['Month'].astype('int32')\n",
    "all_data.head()\n"
   ]
  },
  {
   "attachments": {},
   "cell_type": "markdown",
   "id": "37922976",
   "metadata": {},
   "source": [
    "### Objetivo 3: Crear columna de ventas"
   ]
  },
  {
   "cell_type": "code",
   "execution_count": null,
   "id": "cc6024b5",
   "metadata": {},
   "outputs": [],
   "source": [
    "all_data['Sales'] = all_data['Quantity Ordered'] * all_data['Price Each']\n",
    "all_data.head()"
   ]
  },
  {
   "attachments": {},
   "cell_type": "markdown",
   "id": "ebedfe70",
   "metadata": {},
   "source": [
    "### Objetivo 4: Agregar columna de ciudad"
   ]
  },
  {
   "cell_type": "code",
   "execution_count": null,
   "id": "24839c30",
   "metadata": {},
   "outputs": [],
   "source": [
    "# Usar método .apply()\n",
    "def get_city(address):\n",
    "    return address.split(',')[1]\n",
    "def get_state(address):\n",
    "    return address.split(',')[2].split(' ')[1]\n",
    "all_data['City'] = all_data['Purchase Address'].apply(lambda x: f\"{get_city(x)} ({get_state(x)})\")\n",
    "all_data.head()\n"
   ]
  },
  {
   "cell_type": "code",
   "execution_count": null,
   "id": "3346a9f9",
   "metadata": {},
   "outputs": [],
   "source": []
  },
  {
   "attachments": {},
   "cell_type": "markdown",
   "id": "c128185f",
   "metadata": {},
   "source": [
    "#### Pregunta 1: Cuál fue el mejor mes de ventas?"
   ]
  },
  {
   "cell_type": "code",
   "execution_count": null,
   "id": "475a4a89",
   "metadata": {},
   "outputs": [],
   "source": [
    "results = all_data.groupby('Month').sum()"
   ]
  },
  {
   "cell_type": "code",
   "execution_count": null,
   "id": "94293885",
   "metadata": {},
   "outputs": [],
   "source": [
    "import matplotlib.pyplot as plt\n",
    "months = range(1,13)\n",
    "plt.bar(months, results['Sales'])\n",
    "plt.xticks(months)\n",
    "plt.ylabel('Sales in USD ($)')\n",
    "plt.xlabel('Month number')\n",
    "plt.show()"
   ]
  },
  {
   "attachments": {},
   "cell_type": "markdown",
   "id": "689b1abf",
   "metadata": {},
   "source": [
    "#### Pregunta 2: Cuál fue la ciudad donde se realizaron más ventas?"
   ]
  },
  {
   "cell_type": "code",
   "execution_count": null,
   "id": "76bceb25",
   "metadata": {},
   "outputs": [],
   "source": [
    "results = all_data.groupby('City').sum()\n",
    "results"
   ]
  },
  {
   "cell_type": "code",
   "execution_count": null,
   "id": "37300bd7",
   "metadata": {},
   "outputs": [],
   "source": [
    "import matplotlib.pyplot as plt\n",
    "cities = [city for city, df in all_data.groupby(['City'])]\n",
    "plt.bar(cities, results['Sales'])\n",
    "plt.xticks(cities, rotation='vertical', size=9)\n",
    "plt.ylabel('Sales in USD ($)', size=9)\n",
    "plt.xlabel('City name')\n",
    "plt.show()"
   ]
  },
  {
   "attachments": {},
   "cell_type": "markdown",
   "id": "c13a6df8",
   "metadata": {},
   "source": [
    "#### Pregunta 3: En qué horario se maximizaron la cantidad de ventas?"
   ]
  },
  {
   "cell_type": "code",
   "execution_count": null,
   "id": "8812e83c",
   "metadata": {},
   "outputs": [],
   "source": [
    "all_data['Order Date'] = pd.to_datetime(all_data['Order Date'])\n"
   ]
  },
  {
   "cell_type": "code",
   "execution_count": null,
   "id": "7c4106a8",
   "metadata": {},
   "outputs": [],
   "source": [
    "all_data['Hour'] = all_data['Order Date'].dt.hour\n",
    "all_data['Minute'] = all_data['Order Date'].dt.minute\n",
    "all_data['Count'] = 1\n",
    "all_data.head()"
   ]
  },
  {
   "cell_type": "code",
   "execution_count": null,
   "id": "871160c7",
   "metadata": {},
   "outputs": [],
   "source": [
    "hours = [hour for hour, df in all_data.groupby('Hour')]\n",
    "plt.plot(hours, all_data.groupby(['Hour']).count())\n",
    "plt.xticks(hours)\n",
    "plt.xlabel('Hora')\n",
    "plt.ylabel('Numero de ventas')\n",
    "plt.grid()\n",
    "plt.show()\n",
    "#Alrededor de las 11 de la mañana y de las 19 de la tarde son las mejores horas para publicidad"
   ]
  },
  {
   "attachments": {},
   "cell_type": "markdown",
   "id": "34ba4dcf",
   "metadata": {},
   "source": [
    "#### Pregunta 4: Cuáles productos se venden más seguidos juntos?"
   ]
  },
  {
   "cell_type": "code",
   "execution_count": null,
   "id": "28a898cd",
   "metadata": {},
   "outputs": [],
   "source": [
    "df = all_data[all_data['Order ID'].duplicated(keep=False)]\n",
    "\n",
    "df['Grouped'] = df.groupby('Order ID')['Product'].transform(lambda x: ','.join(x))\n",
    "df = df[['Order ID', 'Grouped']].drop_duplicates()\n",
    "df.head(100)"
   ]
  },
  {
   "cell_type": "code",
   "execution_count": null,
   "id": "3b999303",
   "metadata": {},
   "outputs": [],
   "source": [
    "from itertools import combinations\n",
    "from collections import Counter\n",
    "\n",
    "count = Counter()\n",
    "\n",
    "for row in df['Grouped']:\n",
    "    row_list = row.split(',')\n",
    "    count.update(Counter(combinations(row_list, 2)))\n",
    "\n",
    "for key, value in count.most_common(10):\n",
    "    print(key,value)"
   ]
  },
  {
   "attachments": {},
   "cell_type": "markdown",
   "id": "dd4e62b3",
   "metadata": {},
   "source": [
    "#### Pregunta 5: Qué producto se vendió más? Por qué pensás que se vendió más?"
   ]
  },
  {
   "cell_type": "code",
   "execution_count": null,
   "id": "257c8e66",
   "metadata": {},
   "outputs": [],
   "source": [
    "all_data.head()"
   ]
  },
  {
   "cell_type": "code",
   "execution_count": null,
   "id": "a327d26f",
   "metadata": {},
   "outputs": [],
   "source": [
    "product_group = all_data.groupby('Product')\n",
    "quantity_ordered = product_group.sum()['Quantity Ordered']\n",
    "\n",
    "products = [product for product, df in product_group]\n",
    "\n",
    "plt.bar(products, quantity_ordered)\n",
    "plt.ylabel('Cantidad')\n",
    "plt.xlabel('Producto')\n",
    "plt.xticks(products, rotation ='vertical', size=8)\n",
    "plt.show()"
   ]
  },
  {
   "cell_type": "code",
   "execution_count": null,
   "id": "cf9742cd",
   "metadata": {},
   "outputs": [],
   "source": [
    "prices = all_data.groupby('Product').mean()['Price Each']\n",
    "fig,ax1 =plt.subplots()\n",
    "ax2 = ax1.twinx()\n",
    "ax1.bar(products, quantity_ordered, color='g')\n",
    "ax2.plot(products, prices, 'b-')\n",
    "\n",
    "ax1.set_xlabel('Producto')\n",
    "ax1.set_ylabel('Cantidad', color ='g')\n",
    "ax2.set_ylabel('Precio', color='b')\n",
    "ax1.set_xticklabels(products, rotation='vertical', size=8)\n",
    "plt.show()"
   ]
  },
  {
   "cell_type": "code",
   "execution_count": null,
   "id": "f3824517",
   "metadata": {},
   "outputs": [],
   "source": [
    "# Gracias por llegar al final de mi código :)\n",
    "# Leandro Cabral Santana"
   ]
  }
 ],
 "metadata": {
  "kernelspec": {
   "display_name": "Python 3 (ipykernel)",
   "language": "python",
   "name": "python3"
  },
  "language_info": {
   "codemirror_mode": {
    "name": "ipython",
    "version": 3
   },
   "file_extension": ".py",
   "mimetype": "text/x-python",
   "name": "python",
   "nbconvert_exporter": "python",
   "pygments_lexer": "ipython3",
   "version": "3.11.2"
  }
 },
 "nbformat": 4,
 "nbformat_minor": 5
}
