{
 "cells": [
  {
   "cell_type": "markdown",
   "id": "6d255b16",
   "metadata": {},
   "source": [
    "#### Sales Analysis"
   ]
  },
  {
   "attachments": {},
   "cell_type": "markdown",
   "id": "b83a8272",
   "metadata": {},
   "source": [
    "####Import Necessary Libraries\n"
   ]
  },
  {
   "cell_type": "code",
   "execution_count": 22,
   "id": "78854ae7",
   "metadata": {},
   "outputs": [],
   "source": [
    "import pandas as pd\n",
    "import os"
   ]
  },
  {
   "cell_type": "code",
   "execution_count": 23,
   "id": "1bf50835",
   "metadata": {},
   "outputs": [],
   "source": [
    "#### Task 1: Merge the 12 months of sales in a CSV file"
   ]
  },
  {
   "cell_type": "code",
   "execution_count": 24,
   "id": "eeaedcf4",
   "metadata": {},
   "outputs": [],
   "source": [
    "df = pd.read_csv('SalesAnalysis/Sales_Data/Sales_April_2019.csv')\n",
    "files =[file for file in os.listdir('/Documents/cursos_programacion/pandas/pandas_projects/SalesAnalysis/Sales_Data')]\n",
    "all_months_data = pd.DataFrame()\n",
    "for file in files:\n",
    "    df = pd.read_csv('SalesAnalysis/Sales_Data/'+file)\n",
    "    all_months_data = pd.concat([all_months_data,df])\n",
    "\n",
    "all_months_data.to_csv('all_data.csv',index=False)"
   ]
  },
  {
   "cell_type": "code",
   "execution_count": null,
   "id": "48f09ee4",
   "metadata": {},
   "outputs": [],
   "source": []
  },
  {
   "cell_type": "code",
   "execution_count": null,
   "id": "45f5fb22",
   "metadata": {},
   "outputs": [],
   "source": []
  }
 ],
 "metadata": {
  "kernelspec": {
   "display_name": "Python 3 (ipykernel)",
   "language": "python",
   "name": "python3"
  },
  "language_info": {
   "codemirror_mode": {
    "name": "ipython",
    "version": 3
   },
   "file_extension": ".py",
   "mimetype": "text/x-python",
   "name": "python",
   "nbconvert_exporter": "python",
   "pygments_lexer": "ipython3",
   "version": "3.11.2"
  }
 },
 "nbformat": 4,
 "nbformat_minor": 5
}
